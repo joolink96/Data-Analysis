{
 "cells": [
  {
   "cell_type": "markdown",
   "id": "3e7fbb88",
   "metadata": {},
   "source": [
    "# Pandas\n",
    "파이썬에서 사용하는 데이터 분석 라이브러리\n"
   ]
  },
  {
   "cell_type": "code",
   "execution_count": null,
   "id": "db39f804",
   "metadata": {},
   "outputs": [],
   "source": [
    "import pandas as pd"
   ]
  },
  {
   "cell_type": "markdown",
   "id": "78724b34",
   "metadata": {},
   "source": [
    "# 1. Series\n",
    "      1차원 데이터(정수,실수,문자열 등)\n",
    "     \n",
    "     "
   ]
  },
  {
   "cell_type": "markdown",
   "id": "f3c5678a",
   "metadata": {},
   "source": [
    "## Series 객체 생성\n",
    "예) 1월 4월까지 평균 온도 데이터(-20,-10,10,20)"
   ]
  },
  {
   "cell_type": "code",
   "execution_count": 5,
   "id": "9b9a7ba4",
   "metadata": {},
   "outputs": [
    {
     "data": {
      "text/plain": [
       "0   -20\n",
       "1   -10\n",
       "2    10\n",
       "3    20\n",
       "dtype: int64"
      ]
     },
     "execution_count": 5,
     "metadata": {},
     "output_type": "execute_result"
    }
   ],
   "source": [
    "temp=pd.Series([-20, -10, 10, 20])\n",
    "print(temp)"
   ]
  },
  {
   "cell_type": "code",
   "execution_count": 6,
   "id": "3ad0063e",
   "metadata": {},
   "outputs": [
    {
     "data": {
      "text/plain": [
       "-20"
      ]
     },
     "execution_count": 6,
     "metadata": {},
     "output_type": "execute_result"
    }
   ],
   "source": [
    "temp[0] # 1월온도"
   ]
  },
  {
   "cell_type": "code",
   "execution_count": 7,
   "id": "e870e05f",
   "metadata": {},
   "outputs": [
    {
     "data": {
      "text/plain": [
       "10"
      ]
     },
     "execution_count": 7,
     "metadata": {},
     "output_type": "execute_result"
    }
   ],
   "source": [
    "temp[2] # 3월온도"
   ]
  },
  {
   "cell_type": "markdown",
   "id": "a65ae510",
   "metadata": {},
   "source": [
    " # Series 객체 생성(index 지정)"
   ]
  },
  {
   "cell_type": "code",
   "execution_count": 8,
   "id": "4a5b963c",
   "metadata": {},
   "outputs": [
    {
     "data": {
      "text/plain": [
       "Jan   -20\n",
       "Feb   -10\n",
       "Mar    10\n",
       "Apr    20\n",
       "dtype: int64"
      ]
     },
     "execution_count": 8,
     "metadata": {},
     "output_type": "execute_result"
    }
   ],
   "source": [
    "temp=pd.Series([-20, -10, 10, 20],index=['Jan','Feb','Mar','Apr'])\n",
    "temp"
   ]
  },
  {
   "cell_type": "code",
   "execution_count": 9,
   "id": "e53aa7af",
   "metadata": {},
   "outputs": [
    {
     "data": {
      "text/plain": [
       "-20"
      ]
     },
     "execution_count": 9,
     "metadata": {},
     "output_type": "execute_result"
    }
   ],
   "source": [
    "temp['Jan'] #1월 날씨온도 출력"
   ]
  },
  {
   "cell_type": "code",
   "execution_count": 10,
   "id": "738840ea",
   "metadata": {},
   "outputs": [
    {
     "data": {
      "text/plain": [
       "20"
      ]
     },
     "execution_count": 10,
     "metadata": {},
     "output_type": "execute_result"
    }
   ],
   "source": [
    "temp['Apr'] #4월 날씨온도 출력"
   ]
  },
  {
   "cell_type": "code",
   "execution_count": 12,
   "id": "7b298355",
   "metadata": {},
   "outputs": [],
   "source": [
    "# temp['June'] #존재하지않는 데이터값"
   ]
  }
 ],
 "metadata": {
  "kernelspec": {
   "display_name": "Python 3 (ipykernel)",
   "language": "python",
   "name": "python3"
  },
  "language_info": {
   "codemirror_mode": {
    "name": "ipython",
    "version": 3
   },
   "file_extension": ".py",
   "mimetype": "text/x-python",
   "name": "python",
   "nbconvert_exporter": "python",
   "pygments_lexer": "ipython3",
   "version": "3.9.7"
  }
 },
 "nbformat": 4,
 "nbformat_minor": 5
}
